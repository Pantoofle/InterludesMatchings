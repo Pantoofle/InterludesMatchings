{
 "cells": [
  {
   "cell_type": "code",
   "execution_count": 1,
   "outputs": [
    {
     "name": "stdout",
     "output_type": "stream",
     "text": [
      "Requirement already satisfied: pandas in ./venv/lib/python3.10/site-packages (1.4.3)\r\n",
      "Requirement already satisfied: matching in ./venv/lib/python3.10/site-packages (1.4)\r\n",
      "Requirement already satisfied: python-dateutil>=2.8.1 in ./venv/lib/python3.10/site-packages (from pandas) (2.8.2)\r\n",
      "Requirement already satisfied: numpy>=1.21.0 in ./venv/lib/python3.10/site-packages (from pandas) (1.23.0)\r\n",
      "Requirement already satisfied: pytz>=2020.1 in ./venv/lib/python3.10/site-packages (from pandas) (2022.1)\r\n",
      "Requirement already satisfied: six>=1.5 in ./venv/lib/python3.10/site-packages (from python-dateutil>=2.8.1->pandas) (1.16.0)\r\n",
      "\u001B[33mWARNING: You are using pip version 21.3.1; however, version 22.1.2 is available.\r\n",
      "You should consider upgrading via the '/home/pantoufle/ENS/Interludes_2022/InterludesMatchings/venv/bin/python -m pip install --upgrade pip' command.\u001B[0m\r\n",
      "Note: you may need to restart the kernel to use updated packages.\n"
     ]
    }
   ],
   "source": [
    "%pip install pandas matching"
   ],
   "metadata": {
    "collapsed": false,
    "pycharm": {
     "name": "#%%\n"
    }
   }
  },
  {
   "cell_type": "code",
   "execution_count": 1,
   "outputs": [],
   "source": [
    "from typing import List\n",
    "\n",
    "from pathlib import Path\n",
    "import pandas\n",
    "\n",
    "from activityMatch import Matching\n",
    "from loader import load_activities, load_players"
   ],
   "metadata": {
    "collapsed": false,
    "pycharm": {
     "name": "#%%\n"
    }
   }
  },
  {
   "cell_type": "code",
   "execution_count": 2,
   "outputs": [
    {
     "name": "stdout",
     "output_type": "stream",
     "text": [
      "Detected 10 columns containing wishes\n"
     ]
    }
   ],
   "source": [
    "activities = load_activities(Path('data/format_standard_activites_cleaned.csv'))\n",
    "players = load_players(Path('data/format_standard_inscriptions_cleaned.csv'), activities)"
   ],
   "metadata": {
    "collapsed": false,
    "pycharm": {
     "name": "#%%\n"
    }
   }
  },
  {
   "cell_type": "code",
   "execution_count": 3,
   "outputs": [
    {
     "name": "stdout",
     "output_type": "stream",
     "text": [
      "Activities given to each player:\n",
      "* A | Got 0 activities\n",
      "* B | Got 0 activities\n",
      "* C | Got 0 activities\n",
      "* D | Got 0 activities\n",
      "* E | Got 0 activities\n",
      "* F | Got 0 activities\n",
      "* G | Got 0 activities\n",
      "* H | Got 0 activities\n",
      "* I | Got 0 activities\n",
      "* J | Got 0 activities\n",
      "\n",
      "Activities with a full cast:\n",
      "Activities WITHOUT a full cast:\n",
      "* 0 | ☾ Éclipse ☉ | 0 / 2 players | 2022-08-16 10:00:00 - 2022-08-16 14:00:00\n",
      "  - \n",
      "  - \n",
      "\n",
      "* 1 | À travers les ténèbres | 0 / 3 players | 2022-08-16 11:00:00 - 2022-08-16 15:00:00\n",
      "  - \n",
      "  - \n",
      "  - \n",
      "\n",
      "* 2 | Au dernier repos | 0 / 4 players | 2022-08-16 12:00:00 - 2022-08-16 16:00:00\n",
      "  - \n",
      "  - \n",
      "  - \n",
      "  - \n",
      "\n",
      "* 3 | En suivant l'Alouette | 0 / 4 players | 2022-08-16 13:00:00 - 2022-08-16 17:00:00\n",
      "  - \n",
      "  - \n",
      "  - \n",
      "  - \n",
      "\n",
      "* 4 | Euterpe | 0 / 4 players | 2022-08-16 14:00:00 - 2022-08-16 18:00:00\n",
      "  - \n",
      "  - \n",
      "  - \n",
      "  - \n",
      "\n",
      "* 5 | Hotel California | 0 / 4 players | 2022-08-16 15:00:00 - 2022-08-16 19:00:00\n",
      "  - \n",
      "  - \n",
      "  - \n",
      "  - \n",
      "\n",
      "* 6 | La nouvelle maison des Barbapapas | 0 / 4 players | 2022-08-16 16:00:00 - 2022-08-16 20:00:00\n",
      "  - \n",
      "  - \n",
      "  - \n",
      "  - \n",
      "\n",
      "* 7 | Le Dilemme de Chronos | 0 / 4 players | 2022-08-16 17:00:00 - 2022-08-16 21:00:00\n",
      "  - \n",
      "  - \n",
      "  - \n",
      "  - \n",
      "\n",
      "* 8 | Le dortoir des papillons | 0 / 4 players | 2022-08-16 18:00:00 - 2022-08-16 22:00:00\n",
      "  - \n",
      "  - \n",
      "  - \n",
      "  - \n",
      "\n",
      "* 9 | Les Enfants de la Nuit d'Eté | 0 / 4 players | 2022-08-16 19:00:00 - 2022-08-16 23:00:00\n",
      "  - \n",
      "  - \n",
      "  - \n",
      "  - \n",
      "\n",
      "* 10 | Lumis | 0 / 4 players | 2022-08-16 20:00:00 - 2022-08-17 00:00:00\n",
      "  - \n",
      "  - \n",
      "  - \n",
      "  - \n",
      "\n",
      "* 11 | Nostalgie d'innocence | 0 / 4 players | 2022-08-16 21:00:00 - 2022-08-17 01:00:00\n",
      "  - \n",
      "  - \n",
      "  - \n",
      "  - \n",
      "\n",
      "* 12 | Papers | 0 / 3 players | 2022-08-16 22:00:00 - 2022-08-17 02:00:00\n",
      "  - \n",
      "  - \n",
      "  - \n",
      "\n",
      "* 13 | Pensine | 0 / 2 players | 2022-08-16 23:00:00 - 2022-08-17 03:00:00\n",
      "  - \n",
      "  - \n",
      "\n",
      "* 14 | Que vienne la nuit | 0 / 3 players | 2022-08-17 00:00:00 - 2022-08-17 04:00:00\n",
      "  - \n",
      "  - \n",
      "  - \n",
      "\n",
      "* 15 | Silence au Quatrième Étage | 0 / 2 players | 2022-08-17 01:00:00 - 2022-08-17 05:00:00\n",
      "  - \n",
      "  - \n",
      "\n",
      "* 16 | Songes d'une nuit d'hiver | 0 / 2 players | 2022-08-17 02:00:00 - 2022-08-17 06:00:00\n",
      "  - \n",
      "  - \n",
      "\n",
      "* 17 | Star Potter des Anneaux | 0 / 2 players | 2022-08-17 03:00:00 - 2022-08-17 07:00:00\n",
      "  - \n",
      "  - \n",
      "\n",
      "* 18 | This is Halloween | 0 / 2 players | 2022-08-17 04:00:00 - 2022-08-17 08:00:00\n",
      "  - \n",
      "  - \n",
      "\n",
      "* 19 | WINTERHORN | 0 / 4 players | 2022-08-17 05:00:00 - 2022-08-17 09:00:00\n",
      "  - \n",
      "  - \n",
      "  - \n",
      "  - \n",
      "\n",
      "* 20 | Zero Escape Radical Outcome | 0 / 3 players | 2022-08-17 06:00:00 - 2022-08-17 10:00:00\n",
      "  - \n",
      "  - \n",
      "  - \n",
      "\n"
     ]
    }
   ],
   "source": [
    "matching = Matching(players, activities)\n",
    "matching.print_players_status()\n",
    "print(\"\")\n",
    "matching.print_activities_status()"
   ],
   "metadata": {
    "collapsed": false,
    "pycharm": {
     "name": "#%%\n"
    }
   }
  },
  {
   "cell_type": "code",
   "execution_count": 4,
   "outputs": [],
   "source": [
    "matching.add_to_blacklist('A', 'E')"
   ],
   "metadata": {
    "collapsed": false,
    "pycharm": {
     "name": "#%%\n"
    }
   }
  },
  {
   "cell_type": "code",
   "execution_count": 5,
   "outputs": [
    {
     "name": "stdout",
     "output_type": "stream",
     "text": [
      "Giving [Lumis] to A\n"
     ]
    }
   ],
   "source": [
    "matching.force_assign_activity('A', 'Lumis')"
   ],
   "metadata": {
    "collapsed": false,
    "pycharm": {
     "name": "#%%\n"
    }
   }
  },
  {
   "cell_type": "code",
   "execution_count": 6,
   "outputs": [
    {
     "name": "stdout",
     "output_type": "stream",
     "text": [
      "Casting in priority the players with only one wish and no casts yet\n",
      "No more priority players. Now casting like usual\n",
      "Giving [☾ Éclipse ☉] to A\n",
      "Could not give ☾ Éclipse ☉ to E because of some blacklist conflict\n",
      "Giving [Au dernier repos] to F\n",
      "Giving [Le dortoir des papillons] to G\n",
      "Giving [Les Enfants de la Nuit d'Eté] to I\n",
      "Giving [Lumis] to H\n",
      "Giving [Nostalgie d'innocence] to C\n",
      "Giving [Que vienne la nuit] to B\n",
      "Giving [Songes d'une nuit d'hiver] to D\n",
      "Giving [WINTERHORN] to J\n",
      "Casting in priority the players with only one wish and no casts yet\n",
      "No more priority players. Now casting like usual\n",
      "Giving [À travers les ténèbres] to D\n",
      "Giving [À travers les ténèbres] to I\n",
      "Giving [En suivant l'Alouette] to E\n",
      "Giving [Hotel California] to H\n",
      "Giving [La nouvelle maison des Barbapapas] to J\n",
      "Giving [La nouvelle maison des Barbapapas] to B\n",
      "Giving [Pensine] to G\n",
      "Giving [Que vienne la nuit] to A\n",
      "Giving [Silence au Quatrième Étage] to F\n",
      "Giving [WINTERHORN] to C\n",
      "Casting in priority the players with only one wish and no casts yet\n",
      "No more priority players. Now casting like usual\n",
      "Giving [☾ Éclipse ☉] to J\n",
      "Giving [Euterpe] to A\n",
      "Giving [Le Dilemme de Chronos] to D\n",
      "Giving [Nostalgie d'innocence] to F\n",
      "Giving [Papers] to E\n",
      "Giving [Silence au Quatrième Étage] to H\n",
      "Giving [This is Halloween] to B\n",
      "Giving [Zero Escape Radical Outcome] to G\n",
      "Casting in priority the players with only one wish and no casts yet\n",
      "No more priority players. Now casting like usual\n",
      "Giving [Le Dilemme de Chronos] to F\n",
      "Giving [Pensine] to J\n",
      "Giving [WINTERHORN] to A\n",
      "Giving [Zero Escape Radical Outcome] to H\n",
      "Casting in priority the players with only one wish and no casts yet\n",
      "No more priority players. Now casting like usual\n",
      "Giving [À travers les ténèbres] to H\n",
      "Casting in priority the players with only one wish and no casts yet\n",
      "No more priority players. Now casting like usual\n",
      "Done\n"
     ]
    }
   ],
   "source": [
    "matching.solve()"
   ],
   "metadata": {
    "collapsed": false,
    "pycharm": {
     "name": "#%%\n"
    }
   }
  },
  {
   "cell_type": "code",
   "execution_count": 7,
   "outputs": [
    {
     "name": "stdout",
     "output_type": "stream",
     "text": [
      "Activities given to each player:\n",
      "* I | Got 2 activities\n",
      "  - Les Enfants de la Nuit d'Eté | Start: 2022-08-16 19:00:00\n",
      "  - À travers les ténèbres | Start: 2022-08-16 11:00:00\n",
      "* C | Got 2 activities\n",
      "  - Nostalgie d'innocence | Start: 2022-08-16 21:00:00\n",
      "  - WINTERHORN | Start: 2022-08-17 05:00:00\n",
      "* D | Got 3 activities\n",
      "  - Songes d'une nuit d'hiver | Start: 2022-08-17 02:00:00\n",
      "  - À travers les ténèbres | Start: 2022-08-16 11:00:00\n",
      "  - Le Dilemme de Chronos | Start: 2022-08-16 17:00:00\n",
      "* E | Got 2 activities\n",
      "  - En suivant l'Alouette | Start: 2022-08-16 13:00:00\n",
      "  - Papers | Start: 2022-08-16 22:00:00\n",
      "* B | Got 3 activities\n",
      "  - Que vienne la nuit | Start: 2022-08-17 00:00:00\n",
      "  - La nouvelle maison des Barbapapas | Start: 2022-08-16 16:00:00\n",
      "  - This is Halloween | Start: 2022-08-17 04:00:00\n",
      "* G | Got 3 activities\n",
      "  - Le dortoir des papillons | Start: 2022-08-16 18:00:00\n",
      "  - Pensine | Start: 2022-08-16 23:00:00\n",
      "  - Zero Escape Radical Outcome | Start: 2022-08-17 06:00:00\n",
      "* F | Got 4 activities\n",
      "  - Au dernier repos | Start: 2022-08-16 12:00:00\n",
      "  - Silence au Quatrième Étage | Start: 2022-08-17 01:00:00\n",
      "  - Nostalgie d'innocence | Start: 2022-08-16 21:00:00\n",
      "  - Le Dilemme de Chronos | Start: 2022-08-16 17:00:00\n",
      "* J | Got 4 activities\n",
      "  - WINTERHORN | Start: 2022-08-17 05:00:00\n",
      "  - La nouvelle maison des Barbapapas | Start: 2022-08-16 16:00:00\n",
      "  - ☾ Éclipse ☉ | Start: 2022-08-16 10:00:00\n",
      "  - Pensine | Start: 2022-08-16 23:00:00\n",
      "* A | Got 5 activities\n",
      "  - Lumis | Start: 2022-08-16 20:00:00\n",
      "  - ☾ Éclipse ☉ | Start: 2022-08-16 10:00:00\n",
      "  - Que vienne la nuit | Start: 2022-08-17 00:00:00\n",
      "  - Euterpe | Start: 2022-08-16 14:00:00\n",
      "  - WINTERHORN | Start: 2022-08-17 05:00:00\n",
      "* H | Got 5 activities\n",
      "  - Lumis | Start: 2022-08-16 20:00:00\n",
      "  - Hotel California | Start: 2022-08-16 15:00:00\n",
      "  - Silence au Quatrième Étage | Start: 2022-08-17 01:00:00\n",
      "  - Zero Escape Radical Outcome | Start: 2022-08-17 06:00:00\n",
      "  - À travers les ténèbres | Start: 2022-08-16 11:00:00\n"
     ]
    }
   ],
   "source": [
    "matching.print_players_status()"
   ],
   "metadata": {
    "collapsed": false,
    "pycharm": {
     "name": "#%%\n"
    }
   }
  },
  {
   "cell_type": "code",
   "execution_count": 8,
   "outputs": [
    {
     "name": "stdout",
     "output_type": "stream",
     "text": [
      "Removing C from the activity WINTERHORN\n"
     ]
    }
   ],
   "source": [
    "matching.remove_from_activity(\"C\", \"WINTERHORN\")"
   ],
   "metadata": {
    "collapsed": false,
    "pycharm": {
     "name": "#%%\n"
    }
   }
  },
  {
   "cell_type": "code",
   "execution_count": 9,
   "outputs": [
    {
     "name": "stdout",
     "output_type": "stream",
     "text": [
      "Activities given to each player:\n",
      "* I | Got 2 activities\n",
      "  - Les Enfants de la Nuit d'Eté | Start: 2022-08-16 19:00:00\n",
      "  - À travers les ténèbres | Start: 2022-08-16 11:00:00\n",
      "* C | Got 1 activities\n",
      "  - Nostalgie d'innocence | Start: 2022-08-16 21:00:00\n",
      "* D | Got 3 activities\n",
      "  - Songes d'une nuit d'hiver | Start: 2022-08-17 02:00:00\n",
      "  - À travers les ténèbres | Start: 2022-08-16 11:00:00\n",
      "  - Le Dilemme de Chronos | Start: 2022-08-16 17:00:00\n",
      "* E | Got 2 activities\n",
      "  - En suivant l'Alouette | Start: 2022-08-16 13:00:00\n",
      "  - Papers | Start: 2022-08-16 22:00:00\n",
      "* B | Got 3 activities\n",
      "  - Que vienne la nuit | Start: 2022-08-17 00:00:00\n",
      "  - La nouvelle maison des Barbapapas | Start: 2022-08-16 16:00:00\n",
      "  - This is Halloween | Start: 2022-08-17 04:00:00\n",
      "* G | Got 3 activities\n",
      "  - Le dortoir des papillons | Start: 2022-08-16 18:00:00\n",
      "  - Pensine | Start: 2022-08-16 23:00:00\n",
      "  - Zero Escape Radical Outcome | Start: 2022-08-17 06:00:00\n",
      "* F | Got 4 activities\n",
      "  - Au dernier repos | Start: 2022-08-16 12:00:00\n",
      "  - Silence au Quatrième Étage | Start: 2022-08-17 01:00:00\n",
      "  - Nostalgie d'innocence | Start: 2022-08-16 21:00:00\n",
      "  - Le Dilemme de Chronos | Start: 2022-08-16 17:00:00\n",
      "* J | Got 4 activities\n",
      "  - WINTERHORN | Start: 2022-08-17 05:00:00\n",
      "  - La nouvelle maison des Barbapapas | Start: 2022-08-16 16:00:00\n",
      "  - ☾ Éclipse ☉ | Start: 2022-08-16 10:00:00\n",
      "  - Pensine | Start: 2022-08-16 23:00:00\n",
      "* A | Got 5 activities\n",
      "  - Lumis | Start: 2022-08-16 20:00:00\n",
      "  - ☾ Éclipse ☉ | Start: 2022-08-16 10:00:00\n",
      "  - Que vienne la nuit | Start: 2022-08-17 00:00:00\n",
      "  - Euterpe | Start: 2022-08-16 14:00:00\n",
      "  - WINTERHORN | Start: 2022-08-17 05:00:00\n",
      "* H | Got 5 activities\n",
      "  - Lumis | Start: 2022-08-16 20:00:00\n",
      "  - Hotel California | Start: 2022-08-16 15:00:00\n",
      "  - Silence au Quatrième Étage | Start: 2022-08-17 01:00:00\n",
      "  - Zero Escape Radical Outcome | Start: 2022-08-17 06:00:00\n",
      "  - À travers les ténèbres | Start: 2022-08-16 11:00:00\n"
     ]
    }
   ],
   "source": [
    "matching.print_players_status()"
   ],
   "metadata": {
    "collapsed": false,
    "pycharm": {
     "name": "#%%\n"
    }
   }
  },
  {
   "cell_type": "code",
   "execution_count": 10,
   "outputs": [
    {
     "name": "stdout",
     "output_type": "stream",
     "text": [
      "Activities with a full cast:\n",
      "* 0 | ☾ Éclipse ☉ | 2 / 2 players | 2022-08-16 10:00:00 - 2022-08-16 14:00:00\n",
      "  - A\n",
      "  - J\n",
      "\n",
      "* 15 | Silence au Quatrième Étage | 2 / 2 players | 2022-08-17 01:00:00 - 2022-08-17 05:00:00\n",
      "  - F\n",
      "  - H\n",
      "\n",
      "* 13 | Pensine | 2 / 2 players | 2022-08-16 23:00:00 - 2022-08-17 03:00:00\n",
      "  - G\n",
      "  - J\n",
      "\n",
      "* 1 | À travers les ténèbres | 3 / 3 players | 2022-08-16 11:00:00 - 2022-08-16 15:00:00\n",
      "  - D\n",
      "  - I\n",
      "  - H\n",
      "\n",
      "Activities WITHOUT a full cast:\n",
      "* 2 | Au dernier repos | 1 / 4 players | 2022-08-16 12:00:00 - 2022-08-16 16:00:00\n",
      "  - F\n",
      "  - \n",
      "  - \n",
      "  - \n",
      "\n",
      "* 3 | En suivant l'Alouette | 1 / 4 players | 2022-08-16 13:00:00 - 2022-08-16 17:00:00\n",
      "  - E\n",
      "  - \n",
      "  - \n",
      "  - \n",
      "\n",
      "* 4 | Euterpe | 1 / 4 players | 2022-08-16 14:00:00 - 2022-08-16 18:00:00\n",
      "  - A\n",
      "  - \n",
      "  - \n",
      "  - \n",
      "\n",
      "* 5 | Hotel California | 1 / 4 players | 2022-08-16 15:00:00 - 2022-08-16 19:00:00\n",
      "  - H\n",
      "  - \n",
      "  - \n",
      "  - \n",
      "\n",
      "* 6 | La nouvelle maison des Barbapapas | 2 / 4 players | 2022-08-16 16:00:00 - 2022-08-16 20:00:00\n",
      "  - J\n",
      "  - B\n",
      "  - \n",
      "  - \n",
      "\n",
      "* 7 | Le Dilemme de Chronos | 2 / 4 players | 2022-08-16 17:00:00 - 2022-08-16 21:00:00\n",
      "  - D\n",
      "  - F\n",
      "  - \n",
      "  - \n",
      "\n",
      "* 8 | Le dortoir des papillons | 1 / 4 players | 2022-08-16 18:00:00 - 2022-08-16 22:00:00\n",
      "  - G\n",
      "  - \n",
      "  - \n",
      "  - \n",
      "\n",
      "* 9 | Les Enfants de la Nuit d'Eté | 1 / 4 players | 2022-08-16 19:00:00 - 2022-08-16 23:00:00\n",
      "  - I\n",
      "  - \n",
      "  - \n",
      "  - \n",
      "\n",
      "* 10 | Lumis | 2 / 4 players | 2022-08-16 20:00:00 - 2022-08-17 00:00:00\n",
      "  - A\n",
      "  - H\n",
      "  - \n",
      "  - \n",
      "\n",
      "* 11 | Nostalgie d'innocence | 2 / 4 players | 2022-08-16 21:00:00 - 2022-08-17 01:00:00\n",
      "  - C\n",
      "  - F\n",
      "  - \n",
      "  - \n",
      "\n",
      "* 12 | Papers | 1 / 3 players | 2022-08-16 22:00:00 - 2022-08-17 02:00:00\n",
      "  - E\n",
      "  - \n",
      "  - \n",
      "\n",
      "* 14 | Que vienne la nuit | 2 / 3 players | 2022-08-17 00:00:00 - 2022-08-17 04:00:00\n",
      "  - B\n",
      "  - A\n",
      "  - \n",
      "\n",
      "* 16 | Songes d'une nuit d'hiver | 1 / 2 players | 2022-08-17 02:00:00 - 2022-08-17 06:00:00\n",
      "  - D\n",
      "  - \n",
      "\n",
      "* 17 | Star Potter des Anneaux | 0 / 2 players | 2022-08-17 03:00:00 - 2022-08-17 07:00:00\n",
      "  - \n",
      "  - \n",
      "\n",
      "* 18 | This is Halloween | 1 / 2 players | 2022-08-17 04:00:00 - 2022-08-17 08:00:00\n",
      "  - B\n",
      "  - \n",
      "\n",
      "* 19 | WINTERHORN | 2 / 4 players | 2022-08-17 05:00:00 - 2022-08-17 09:00:00\n",
      "  - J\n",
      "  - A\n",
      "  - \n",
      "  - \n",
      "\n",
      "* 20 | Zero Escape Radical Outcome | 2 / 3 players | 2022-08-17 06:00:00 - 2022-08-17 10:00:00\n",
      "  - G\n",
      "  - H\n",
      "  - \n",
      "\n"
     ]
    }
   ],
   "source": [
    "matching.print_activities_status()"
   ],
   "metadata": {
    "collapsed": false,
    "pycharm": {
     "name": "#%%\n"
    }
   }
  },
  {
   "cell_type": "code",
   "execution_count": 10,
   "outputs": [],
   "source": [],
   "metadata": {
    "collapsed": false,
    "pycharm": {
     "name": "#%%\n"
    }
   }
  }
 ],
 "metadata": {
  "kernelspec": {
   "display_name": "venv",
   "language": "python",
   "name": "venv"
  },
  "language_info": {
   "codemirror_mode": {
    "name": "ipython",
    "version": 3
   },
   "file_extension": ".py",
   "mimetype": "text/x-python",
   "name": "python",
   "nbconvert_exporter": "python",
   "pygments_lexer": "ipython3",
   "version": "3.10.2"
  }
 },
 "nbformat": 4,
 "nbformat_minor": 4
}